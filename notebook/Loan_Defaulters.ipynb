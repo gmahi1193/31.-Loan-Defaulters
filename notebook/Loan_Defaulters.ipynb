{
 "cells": [
  {
   "cell_type": "code",
   "execution_count": 21,
   "metadata": {},
   "outputs": [],
   "source": [
    "# import the modules\n",
    "\n",
    "import pandas as pd\n",
    "import numpy as np\n",
    "import matplotlib.pyplot as plt\n",
    "import seaborn as sns\n",
    "from sklearn.model_selection import train_test_split\n",
    "from sklearn.tree import DecisionTreeClassifier\n",
    "from sklearn.preprocessing import LabelEncoder\n",
    "from sklearn.metrics import accuracy_score"
   ]
  },
  {
   "cell_type": "markdown",
   "metadata": {},
   "source": [
    "### Load the dataset\n",
    "\n",
    "- Load the train data and using all your knowledge try to explore the different statistical properties of the dataset."
   ]
  },
  {
   "cell_type": "code",
   "execution_count": 22,
   "metadata": {},
   "outputs": [
    {
     "data": {
      "text/html": [
       "<div>\n",
       "<style scoped>\n",
       "    .dataframe tbody tr th:only-of-type {\n",
       "        vertical-align: middle;\n",
       "    }\n",
       "\n",
       "    .dataframe tbody tr th {\n",
       "        vertical-align: top;\n",
       "    }\n",
       "\n",
       "    .dataframe thead th {\n",
       "        text-align: right;\n",
       "    }\n",
       "</style>\n",
       "<table border=\"1\" class=\"dataframe\">\n",
       "  <thead>\n",
       "    <tr style=\"text-align: right;\">\n",
       "      <th></th>\n",
       "      <th>credit.policy</th>\n",
       "      <th>purpose</th>\n",
       "      <th>int.rate</th>\n",
       "      <th>installment</th>\n",
       "      <th>log.annual.inc</th>\n",
       "      <th>dti</th>\n",
       "      <th>fico</th>\n",
       "      <th>days.with.cr.line</th>\n",
       "      <th>revol.bal</th>\n",
       "      <th>revol.util</th>\n",
       "      <th>pub.rec</th>\n",
       "      <th>inq.last.6mths</th>\n",
       "      <th>delinq.2yrs</th>\n",
       "      <th>paid.back.loan</th>\n",
       "    </tr>\n",
       "  </thead>\n",
       "  <tbody>\n",
       "    <tr>\n",
       "      <th>0</th>\n",
       "      <td>1</td>\n",
       "      <td>2</td>\n",
       "      <td>12.53</td>\n",
       "      <td>689.41</td>\n",
       "      <td>11.513725</td>\n",
       "      <td>14.45</td>\n",
       "      <td>722</td>\n",
       "      <td>4291.000000</td>\n",
       "      <td>13171</td>\n",
       "      <td>51.8</td>\n",
       "      <td>0</td>\n",
       "      <td>3</td>\n",
       "      <td>0</td>\n",
       "      <td>Yes</td>\n",
       "    </tr>\n",
       "    <tr>\n",
       "      <th>1</th>\n",
       "      <td>1</td>\n",
       "      <td>1</td>\n",
       "      <td>10.20</td>\n",
       "      <td>485.42</td>\n",
       "      <td>10.315597</td>\n",
       "      <td>12.87</td>\n",
       "      <td>752</td>\n",
       "      <td>5789.958333</td>\n",
       "      <td>14857</td>\n",
       "      <td>31.3</td>\n",
       "      <td>0</td>\n",
       "      <td>3</td>\n",
       "      <td>1</td>\n",
       "      <td>Yes</td>\n",
       "    </tr>\n",
       "    <tr>\n",
       "      <th>2</th>\n",
       "      <td>1</td>\n",
       "      <td>2</td>\n",
       "      <td>12.87</td>\n",
       "      <td>121.08</td>\n",
       "      <td>11.238436</td>\n",
       "      <td>1.58</td>\n",
       "      <td>692</td>\n",
       "      <td>3391.000000</td>\n",
       "      <td>12135</td>\n",
       "      <td>85.5</td>\n",
       "      <td>0</td>\n",
       "      <td>3</td>\n",
       "      <td>0</td>\n",
       "      <td>Yes</td>\n",
       "    </tr>\n",
       "    <tr>\n",
       "      <th>3</th>\n",
       "      <td>0</td>\n",
       "      <td>0</td>\n",
       "      <td>15.37</td>\n",
       "      <td>348.47</td>\n",
       "      <td>11.142007</td>\n",
       "      <td>11.01</td>\n",
       "      <td>687</td>\n",
       "      <td>5370.000000</td>\n",
       "      <td>10631</td>\n",
       "      <td>35.3</td>\n",
       "      <td>0</td>\n",
       "      <td>0</td>\n",
       "      <td>0</td>\n",
       "      <td>Yes</td>\n",
       "    </tr>\n",
       "    <tr>\n",
       "      <th>4</th>\n",
       "      <td>1</td>\n",
       "      <td>2</td>\n",
       "      <td>14.61</td>\n",
       "      <td>344.76</td>\n",
       "      <td>10.308953</td>\n",
       "      <td>11.36</td>\n",
       "      <td>672</td>\n",
       "      <td>2429.958333</td>\n",
       "      <td>10544</td>\n",
       "      <td>57.0</td>\n",
       "      <td>0</td>\n",
       "      <td>3</td>\n",
       "      <td>1</td>\n",
       "      <td>Yes</td>\n",
       "    </tr>\n",
       "  </tbody>\n",
       "</table>\n",
       "</div>"
      ],
      "text/plain": [
       "   credit.policy  purpose  int.rate  installment  log.annual.inc    dti  fico  \\\n",
       "0              1        2     12.53       689.41       11.513725  14.45   722   \n",
       "1              1        1     10.20       485.42       10.315597  12.87   752   \n",
       "2              1        2     12.87       121.08       11.238436   1.58   692   \n",
       "3              0        0     15.37       348.47       11.142007  11.01   687   \n",
       "4              1        2     14.61       344.76       10.308953  11.36   672   \n",
       "\n",
       "   days.with.cr.line  revol.bal  revol.util  pub.rec  inq.last.6mths  \\\n",
       "0        4291.000000      13171        51.8        0               3   \n",
       "1        5789.958333      14857        31.3        0               3   \n",
       "2        3391.000000      12135        85.5        0               3   \n",
       "3        5370.000000      10631        35.3        0               0   \n",
       "4        2429.958333      10544        57.0        0               3   \n",
       "\n",
       "   delinq.2yrs paid.back.loan  \n",
       "0            0            Yes  \n",
       "1            1            Yes  \n",
       "2            0            Yes  \n",
       "3            0            Yes  \n",
       "4            1            Yes  "
      ]
     },
     "execution_count": 22,
     "metadata": {},
     "output_type": "execute_result"
    }
   ],
   "source": [
    "train = pd.read_csv('../data/train.csv')\n",
    "train.drop(columns = ['customer.id', 'Id'], axis = 1, inplace = True)\n",
    "train['int.rate'] = train['int.rate'].apply(lambda x: float(str(x).replace(\"%\",\"\")))\n",
    "\n",
    "cat_var_train = train.select_dtypes(exclude = 'number').columns\n",
    "cat_var_train = cat_var_train.drop('paid.back.loan')\n",
    "\n",
    "le = LabelEncoder()\n",
    "\n",
    "for i in cat_var_train:\n",
    "    train[i] = le.fit_transform(train[i])\n",
    "\n",
    "train.head()"
   ]
  },
  {
   "cell_type": "code",
   "execution_count": 23,
   "metadata": {},
   "outputs": [
    {
     "data": {
      "text/html": [
       "<div>\n",
       "<style scoped>\n",
       "    .dataframe tbody tr th:only-of-type {\n",
       "        vertical-align: middle;\n",
       "    }\n",
       "\n",
       "    .dataframe tbody tr th {\n",
       "        vertical-align: top;\n",
       "    }\n",
       "\n",
       "    .dataframe thead th {\n",
       "        text-align: right;\n",
       "    }\n",
       "</style>\n",
       "<table border=\"1\" class=\"dataframe\">\n",
       "  <thead>\n",
       "    <tr style=\"text-align: right;\">\n",
       "      <th></th>\n",
       "      <th>credit.policy</th>\n",
       "      <th>purpose</th>\n",
       "      <th>int.rate</th>\n",
       "      <th>installment</th>\n",
       "      <th>log.annual.inc</th>\n",
       "      <th>dti</th>\n",
       "      <th>fico</th>\n",
       "      <th>days.with.cr.line</th>\n",
       "      <th>revol.bal</th>\n",
       "      <th>revol.util</th>\n",
       "      <th>pub.rec</th>\n",
       "      <th>inq.last.6mths</th>\n",
       "      <th>delinq.2yrs</th>\n",
       "    </tr>\n",
       "  </thead>\n",
       "  <tbody>\n",
       "    <tr>\n",
       "      <th>0</th>\n",
       "      <td>1</td>\n",
       "      <td>2</td>\n",
       "      <td>11.83</td>\n",
       "      <td>497.01</td>\n",
       "      <td>11.385092</td>\n",
       "      <td>19.70</td>\n",
       "      <td>732</td>\n",
       "      <td>6481.958333</td>\n",
       "      <td>32725</td>\n",
       "      <td>41.9</td>\n",
       "      <td>0</td>\n",
       "      <td>2</td>\n",
       "      <td>0</td>\n",
       "    </tr>\n",
       "    <tr>\n",
       "      <th>1</th>\n",
       "      <td>1</td>\n",
       "      <td>0</td>\n",
       "      <td>14.96</td>\n",
       "      <td>138.59</td>\n",
       "      <td>10.714418</td>\n",
       "      <td>1.79</td>\n",
       "      <td>682</td>\n",
       "      <td>1230.041667</td>\n",
       "      <td>1298</td>\n",
       "      <td>81.1</td>\n",
       "      <td>0</td>\n",
       "      <td>2</td>\n",
       "      <td>0</td>\n",
       "    </tr>\n",
       "    <tr>\n",
       "      <th>2</th>\n",
       "      <td>1</td>\n",
       "      <td>0</td>\n",
       "      <td>9.76</td>\n",
       "      <td>80.39</td>\n",
       "      <td>9.998798</td>\n",
       "      <td>22.25</td>\n",
       "      <td>737</td>\n",
       "      <td>2404.041667</td>\n",
       "      <td>2574</td>\n",
       "      <td>10.5</td>\n",
       "      <td>0</td>\n",
       "      <td>2</td>\n",
       "      <td>0</td>\n",
       "    </tr>\n",
       "    <tr>\n",
       "      <th>3</th>\n",
       "      <td>1</td>\n",
       "      <td>2</td>\n",
       "      <td>16.32</td>\n",
       "      <td>247.20</td>\n",
       "      <td>10.915088</td>\n",
       "      <td>3.99</td>\n",
       "      <td>662</td>\n",
       "      <td>2189.958333</td>\n",
       "      <td>4747</td>\n",
       "      <td>93.1</td>\n",
       "      <td>0</td>\n",
       "      <td>2</td>\n",
       "      <td>1</td>\n",
       "    </tr>\n",
       "    <tr>\n",
       "      <th>4</th>\n",
       "      <td>1</td>\n",
       "      <td>1</td>\n",
       "      <td>8.00</td>\n",
       "      <td>188.02</td>\n",
       "      <td>11.446786</td>\n",
       "      <td>13.27</td>\n",
       "      <td>752</td>\n",
       "      <td>2250.000000</td>\n",
       "      <td>7501</td>\n",
       "      <td>26.8</td>\n",
       "      <td>0</td>\n",
       "      <td>2</td>\n",
       "      <td>0</td>\n",
       "    </tr>\n",
       "  </tbody>\n",
       "</table>\n",
       "</div>"
      ],
      "text/plain": [
       "   credit.policy  purpose  int.rate  installment  log.annual.inc    dti  fico  \\\n",
       "0              1        2     11.83       497.01       11.385092  19.70   732   \n",
       "1              1        0     14.96       138.59       10.714418   1.79   682   \n",
       "2              1        0      9.76        80.39        9.998798  22.25   737   \n",
       "3              1        2     16.32       247.20       10.915088   3.99   662   \n",
       "4              1        1      8.00       188.02       11.446786  13.27   752   \n",
       "\n",
       "   days.with.cr.line  revol.bal  revol.util  pub.rec  inq.last.6mths  \\\n",
       "0        6481.958333      32725        41.9        0               2   \n",
       "1        1230.041667       1298        81.1        0               2   \n",
       "2        2404.041667       2574        10.5        0               2   \n",
       "3        2189.958333       4747        93.1        0               2   \n",
       "4        2250.000000       7501        26.8        0               2   \n",
       "\n",
       "   delinq.2yrs  \n",
       "0            0  \n",
       "1            0  \n",
       "2            0  \n",
       "3            1  \n",
       "4            0  "
      ]
     },
     "execution_count": 23,
     "metadata": {},
     "output_type": "execute_result"
    }
   ],
   "source": [
    "test = pd.read_csv('../data/test.csv')\n",
    "id_ = test.Id\n",
    "test.drop(columns = ['customer.id', 'Id'], axis = 1, inplace = True)\n",
    "test['int.rate'] = test['int.rate'].apply(lambda x: float(str(x).replace(\"%\",\"\")))\n",
    "\n",
    "cat_var_test = test.select_dtypes(exclude = 'number').columns\n",
    "\n",
    "for i in cat_var_test:\n",
    "    test[i] = le.fit_transform(test[i])\n",
    "\n",
    "test.head()"
   ]
  },
  {
   "cell_type": "markdown",
   "metadata": {},
   "source": [
    "### Visualize the data\n",
    "\n",
    "- Check for the categorical & continuous features. \n",
    "- Check out the best plots for plotting between categorical target and continuous features and try making some inferences from these plots.\n",
    "- Clean the data, apply some data preprocessing and engineering techniques."
   ]
  },
  {
   "cell_type": "code",
   "execution_count": 24,
   "metadata": {},
   "outputs": [
    {
     "data": {
      "image/png": "[encoded data removed]",
      "text/plain": [
       "<Figure size 432x288 with 1 Axes>"
      ]
     },
     "metadata": {
      "needs_background": "light"
     },
     "output_type": "display_data"
    }
   ],
   "source": [
    "# Code starts here\n",
    "#Storing value counts of target variable in 'fully_paid'\n",
    "fully_paid=train['paid.back.loan'].value_counts()\n",
    "\n",
    "#Plotting bar plot\n",
    "plt.bar(fully_paid.index, fully_paid)\n",
    "plt.show()\n",
    "# Code ends here."
   ]
  },
  {
   "cell_type": "code",
   "execution_count": 25,
   "metadata": {},
   "outputs": [
    {
     "data": {
      "text/plain": [
       "<AxesSubplot:xlabel='log.annual.inc', ylabel='Density'>"
      ]
     },
     "execution_count": 25,
     "metadata": {},
     "output_type": "execute_result"
    },
    {
     "data": {
      "image/png": "[encoded data removed]",
      "text/plain": [
       "<Figure size 432x288 with 1 Axes>"
      ]
     },
     "metadata": {
      "needs_background": "light"
     },
     "output_type": "display_data"
    }
   ],
   "source": [
    "sns.kdeplot(train['log.annual.inc'], hue = train['paid.back.loan'])"
   ]
  },
  {
   "cell_type": "markdown",
   "metadata": {},
   "source": [
    "### Model building\n",
    "\n",
    "- Separate the features and target.\n",
    "- Now let's come to the actual task, using Decision Tree, predict the `paid.back.loan`. Use different techniques you have learned to imporove the performance of the model.\n",
    "- Try improving upon the `accuracy_score` ([Accuracy Score](https://scikit-learn.org/stable/modules/generated/sklearn.metrics.accuracy_score.html))"
   ]
  },
  {
   "cell_type": "code",
   "execution_count": 26,
   "metadata": {},
   "outputs": [
    {
     "name": "stdout",
     "output_type": "stream",
     "text": [
      "0.8351457155284906\n",
      "0.8351457155284906\n"
     ]
    }
   ],
   "source": [
    "# Code starts here\n",
    "\n",
    "X = train.iloc[:,:-1]\n",
    "y = train.iloc[:,-1]\n",
    "\n",
    "X_train, X_test, y_train, y_test = train_test_split(X, y, test_size = 0.3, random_state = 0)\n",
    "\n",
    "dt = DecisionTreeClassifier(max_depth = 3)\n",
    "\n",
    "dt.fit(X_train, y_train)\n",
    "print(dt.score(X_test,y_test))\n",
    "\n",
    "y_pred = dt.predict(X_test)\n",
    "\n",
    "acc_score = accuracy_score(y_test, y_pred)\n",
    "print(acc_score)\n",
    "\n",
    "\n",
    "# Code ends here"
   ]
  },
  {
   "cell_type": "markdown",
   "metadata": {},
   "source": [
    "### Prediction on the test data and creating the sample submission file.\n",
    "\n",
    "- Load the test data and store the `Id` column in a separate variable.\n",
    "- Perform the same operations on the test data that you have performed on the train data.\n",
    "- Create the submission file as a `csv` file consisting of the `Id` column from the test data and your prediction as the second column."
   ]
  },
  {
   "cell_type": "code",
   "execution_count": 28,
   "metadata": {},
   "outputs": [
    {
     "data": {
      "text/plain": [
       "array(['Yes', 'Yes', 'Yes', 'Yes', 'Yes', 'Yes', 'Yes', 'No', 'Yes',\n",
       "       'Yes', 'Yes', 'Yes', 'Yes', 'Yes', 'Yes', 'Yes', 'Yes', 'No',\n",
       "       'Yes', 'Yes', 'Yes', 'Yes', 'Yes', 'Yes', 'Yes', 'Yes', 'Yes',\n",
       "       'Yes', 'Yes', 'Yes', 'Yes', 'Yes', 'Yes', 'Yes', 'Yes', 'Yes',\n",
       "       'Yes', 'Yes', 'Yes', 'Yes', 'Yes', 'Yes', 'Yes', 'Yes', 'Yes',\n",
       "       'Yes', 'Yes', 'Yes', 'Yes', 'Yes', 'Yes', 'Yes', 'Yes', 'Yes',\n",
       "       'No', 'Yes', 'Yes', 'Yes', 'Yes', 'Yes', 'Yes', 'Yes', 'Yes',\n",
       "       'Yes', 'Yes', 'Yes', 'Yes', 'Yes', 'Yes', 'Yes', 'Yes', 'Yes',\n",
       "       'Yes', 'Yes', 'Yes', 'Yes', 'Yes', 'Yes', 'No', 'Yes', 'Yes',\n",
       "       'Yes', 'Yes', 'Yes', 'Yes', 'Yes', 'Yes', 'Yes', 'Yes', 'Yes',\n",
       "       'Yes', 'Yes', 'Yes', 'Yes', 'Yes', 'Yes', 'Yes', 'Yes', 'Yes',\n",
       "       'Yes'], dtype=object)"
      ]
     },
     "execution_count": 28,
     "metadata": {},
     "output_type": "execute_result"
    }
   ],
   "source": [
    "# Code Starts here\n",
    "res = dt.predict(test)\n",
    "res\n",
    "# sub = pd.DataFrame({'Id':id_,'paid.back.loan':res})\n",
    "# submission = sub.to_csv('Submission.csv', index = False)\n",
    "\n",
    "\n",
    "# Code ends here"
   ]
  },
  {
   "cell_type": "code",
   "execution_count": null,
   "metadata": {},
   "outputs": [],
   "source": []
  }
 ],
 "metadata": {
  "kernelspec": {
   "display_name": "Python 3 (ipykernel)",
   "language": "python",
   "name": "python3"
  },
  "language_info": {
   "codemirror_mode": {
    "name": "ipython",
    "version": 3
   },
   "file_extension": ".py",
   "mimetype": "text/x-python",
   "name": "python",
   "nbconvert_exporter": "python",
   "pygments_lexer": "ipython3",
   "version": "3.8.12"
  }
 },
 "nbformat": 4,
 "nbformat_minor": 2
}
